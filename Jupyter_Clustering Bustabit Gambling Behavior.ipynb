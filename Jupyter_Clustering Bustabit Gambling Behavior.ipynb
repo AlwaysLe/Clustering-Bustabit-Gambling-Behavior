{
 "cells": [
  {
   "cell_type": "markdown",
   "metadata": {
    "dc": {
     "key": "4"
    },
    "deletable": false,
    "editable": false,
    "run_control": {
     "frozen": true
    },
    "tags": [
     "context"
    ]
   },
   "source": [
    "## 1. A preliminary look at the Bustabit data\n",
    "<p>The similarities and differences in the behaviors of different people have long been of interest, particularly in psychology and other social science fields. Understanding human behavior in particular contexts can help us to make informed decisions. Consider a game of poker - understanding why players raise, call, and fold in various situations can provide a distinct advantage competitively.</p>\n",
    "<p>Along these lines, we are going to focus on the behavior on <strong>online gamblers</strong> from a platform called <a href=\"https://www.bustabit.com\" target=\"_blank\">Bustabit</a>. There are a few basic rules for playing a game of Bustabit:</p>\n",
    "<ol>\n",
    "<li>You bet a certain amount of money (in Bits, which is 1 / 1,000,000th of a Bitcoin) and you win if you cash out before the game <strong>busts</strong>.</li>\n",
    "<li>Your win is calculated by the multiplier value at the moment you cashed out. For example, if you bet 100 and the value was 2.50x at the time you cashed out, you win 250. In addition, a percentage <code>Bonus</code> per game is multiplied with your bet and summed to give your final <code>Profit</code> in a winning game. Assuming a <code>Bonus</code> of 1%, your <code>Profit</code> for this round would be <code>(100 x 2.5) + (100 x .01) - 100 = 151</code></li>\n",
    "<li>The multiplier increases as time goes on, but if you wait too long to cash out, you may bust and lose your money.</li>\n",
    "<li>Lastly, the house maintains slight advantages because in 1 out of every 100 games, everyone playing busts.</li>\n",
    "</ol>\n",
    "<p>Below we see an example of a winning game:</p>\n",
    "<p><img src=\"https://assets.datacamp.com/production/project_643/img/bustabit_win.gif\" alt></p>\n",
    "<p>And a losing game, for comparison:</p>\n",
    "<p><img src=\"https://assets.datacamp.com/production/project_643/img/bustabit_loss.gif\" alt></p>\n",
    "<p>Our goal will be to define relevant <strong>groups</strong> or <strong>clusters</strong> of Bustabit users to identify what patterns and behaviors of gambling persist. Can we describe a particular group as risk-averse? Is there a set of gamblers that have a strategy that seems to be more successful in the long term?</p>\n",
    "<p>The data you will be working with includes over 40000 games of Bustabit by a bit over 4000 different players, for a total of 50000 rows (one game played by one player). The data includes the following variables:</p>\n",
    "<ol>\n",
    "<li><strong>Id</strong> - Unique identifier for a particular row (game result for one player)</li>\n",
    "<li><strong>GameID</strong> - Unique identifier for a particular game</li>\n",
    "<li><strong>Username</strong> - Unique identifier for a particular player</li>\n",
    "<li><strong>Bet</strong> - The number of Bits (1 / 1,000,000th of a Bitcoin) bet by the player in this game</li>\n",
    "<li><strong>CashedOut</strong> - The multiplier at which this particular player cashed out</li>\n",
    "<li><strong>Bonus</strong> - The bonus award (in percent) awarded to this player for the game</li>\n",
    "<li><strong>Profit</strong> - The amount this player won in the game, calculated as (Bet * CashedOut) + (Bet * Bonus) - Bet</li>\n",
    "<li><strong>BustedAt</strong> - The multiplier value at which this game busted</li>\n",
    "<li><strong>PlayDate</strong> - The date and time at which this game took place</li>\n",
    "</ol>\n",
    "<p>Let's begin by doing an exploratory dive into the Bustabit data!</p>"
   ]
  },
  {
   "cell_type": "code",
   "execution_count": 9,
   "metadata": {
    "dc": {
     "key": "4"
    },
    "tags": [
     "sample_code"
    ]
   },
   "outputs": [
    {
     "data": {
      "text/html": [
       "<div>\n",
       "<style scoped>\n",
       "    .dataframe tbody tr th:only-of-type {\n",
       "        vertical-align: middle;\n",
       "    }\n",
       "\n",
       "    .dataframe tbody tr th {\n",
       "        vertical-align: top;\n",
       "    }\n",
       "\n",
       "    .dataframe thead th {\n",
       "        text-align: right;\n",
       "    }\n",
       "</style>\n",
       "<table border=\"1\" class=\"dataframe\">\n",
       "  <thead>\n",
       "    <tr style=\"text-align: right;\">\n",
       "      <th></th>\n",
       "      <th>Id</th>\n",
       "      <th>GameID</th>\n",
       "      <th>Username</th>\n",
       "      <th>Bet</th>\n",
       "      <th>CashedOut</th>\n",
       "      <th>Bonus</th>\n",
       "      <th>Profit</th>\n",
       "      <th>BustedAt</th>\n",
       "      <th>PlayDate</th>\n",
       "    </tr>\n",
       "  </thead>\n",
       "  <tbody>\n",
       "    <tr>\n",
       "      <th>2197</th>\n",
       "      <td>19029273</td>\n",
       "      <td>3395044</td>\n",
       "      <td>Shadowshot</td>\n",
       "      <td>130</td>\n",
       "      <td>2.0</td>\n",
       "      <td>2.77</td>\n",
       "      <td>133.6</td>\n",
       "      <td>251025.13</td>\n",
       "      <td>2016-11-29T00:03:05Z</td>\n",
       "    </tr>\n",
       "  </tbody>\n",
       "</table>\n",
       "</div>"
      ],
      "text/plain": [
       "            Id   GameID    Username  Bet  CashedOut  Bonus  Profit   BustedAt  \\\n",
       "2197  19029273  3395044  Shadowshot  130        2.0   2.77   133.6  251025.13   \n",
       "\n",
       "                  PlayDate  \n",
       "2197  2016-11-29T00:03:05Z  "
      ]
     },
     "execution_count": 9,
     "metadata": {},
     "output_type": "execute_result"
    }
   ],
   "source": [
    "# Load\n",
    "import pandas as pd\n",
    "from scipy.cluster.vq import kmeans, vq\n",
    "import numpy as np\n",
    "import matplotlib.pyplot as plt\n",
    "from pandas.plotting import parallel_coordinates\n",
    "import seaborn as sns\n",
    "from sklearn.decomposition import PCA\n",
    "#Set the Max columns to display in Pandas\n",
    "pd.set_option('display.max_columns', 15)\n",
    "\n",
    "#Taks 1\n",
    "# Read in the bustabit gambling data\n",
    "url = 'https://raw.githubusercontent.com/erichare/projects-instructor-application-r/master/datasets/bustabit_sub.csv'\n",
    "bustabit = pd.read_csv(url)\n",
    "# Look at the first five rows of the data\n",
    "bustabit.head(5)\n",
    "# Find the highest multiplier (BustedAt value) achieved in a game\n",
    "#bustabit['BustedAt'].max()\n",
    "bustabit[bustabit['BustedAt']==bustabit['BustedAt'].max()]\n"
   ]
  },
  {
   "cell_type": "markdown",
   "metadata": {
    "dc": {
     "key": "11"
    },
    "deletable": false,
    "editable": false,
    "run_control": {
     "frozen": true
    },
    "tags": [
     "context"
    ]
   },
   "source": [
    "## 2. Deriving relevant features for clustering\n",
    "<p>The Bustabit data provides us with many features to work with, but to better quantify player behavior, we need to derive some more variables. Currently, we have a <code>Profit</code> column which tells us the amount won in that game, but no indication of how much was lost if the player busted, and no indicator variable quantifying whether the game itself was a win or loss overall. Hence, we will derive or modify the following variables:</p>\n",
    "<ol>\n",
    "<li><strong>CashedOut</strong> - If the value for <code>CashedOut</code> is <code>NA</code>, we will set it to be 0.01 greater than the <code>BustedAt</code> value to signify that the user failed to cash out before busting</li>\n",
    "<li><strong>Profit</strong> - If the value for <code>Profit</code> is <code>NA</code>, we will set it to be zero to indicate no profit for the player in that game</li>\n",
    "<li><strong>Losses</strong> - If the new value for <code>Profit</code> is zero, we will set this to be the amount the player lost in that game, otherwise we will set it to zero. This value should always be <em>zero or negative</em></li>\n",
    "<li><strong>GameWon</strong> - If the user made a profit in this game, the value should be 1, and 0 otherwise</li>\n",
    "<li><strong>GameLost</strong> If the user had a loss in this game, the value should be 1, and 0 otherwise</li>\n",
    "</ol>"
   ]
  },
  {
   "cell_type": "code",
   "execution_count": 2,
   "metadata": {
    "dc": {
     "key": "11"
    },
    "tags": [
     "sample_code"
    ]
   },
   "outputs": [
    {
     "data": {
      "text/html": [
       "<div>\n",
       "<style scoped>\n",
       "    .dataframe tbody tr th:only-of-type {\n",
       "        vertical-align: middle;\n",
       "    }\n",
       "\n",
       "    .dataframe tbody tr th {\n",
       "        vertical-align: top;\n",
       "    }\n",
       "\n",
       "    .dataframe thead th {\n",
       "        text-align: right;\n",
       "    }\n",
       "</style>\n",
       "<table border=\"1\" class=\"dataframe\">\n",
       "  <thead>\n",
       "    <tr style=\"text-align: right;\">\n",
       "      <th></th>\n",
       "      <th>Id</th>\n",
       "      <th>GameID</th>\n",
       "      <th>Username</th>\n",
       "      <th>Bet</th>\n",
       "      <th>CashedOut</th>\n",
       "      <th>Bonus</th>\n",
       "      <th>Profit</th>\n",
       "      <th>BustedAt</th>\n",
       "      <th>PlayDate</th>\n",
       "      <th>Losses</th>\n",
       "      <th>GameWon</th>\n",
       "      <th>GameLost</th>\n",
       "    </tr>\n",
       "  </thead>\n",
       "  <tbody>\n",
       "    <tr>\n",
       "      <th>0</th>\n",
       "      <td>14196549</td>\n",
       "      <td>3366002</td>\n",
       "      <td>papai</td>\n",
       "      <td>5</td>\n",
       "      <td>1.20</td>\n",
       "      <td>0.0</td>\n",
       "      <td>1.00</td>\n",
       "      <td>8.24</td>\n",
       "      <td>2016-11-20T19:44:19Z</td>\n",
       "      <td>0.0</td>\n",
       "      <td>1</td>\n",
       "      <td>0</td>\n",
       "    </tr>\n",
       "    <tr>\n",
       "      <th>1</th>\n",
       "      <td>10676217</td>\n",
       "      <td>3343882</td>\n",
       "      <td>znay22</td>\n",
       "      <td>3</td>\n",
       "      <td>1.41</td>\n",
       "      <td>NaN</td>\n",
       "      <td>0.00</td>\n",
       "      <td>1.40</td>\n",
       "      <td>2016-11-14T14:21:50Z</td>\n",
       "      <td>-3.0</td>\n",
       "      <td>0</td>\n",
       "      <td>1</td>\n",
       "    </tr>\n",
       "    <tr>\n",
       "      <th>2</th>\n",
       "      <td>15577107</td>\n",
       "      <td>3374646</td>\n",
       "      <td>rrrrrrrr</td>\n",
       "      <td>4</td>\n",
       "      <td>1.33</td>\n",
       "      <td>3.0</td>\n",
       "      <td>1.44</td>\n",
       "      <td>3.15</td>\n",
       "      <td>2016-11-23T06:39:15Z</td>\n",
       "      <td>0.0</td>\n",
       "      <td>1</td>\n",
       "      <td>0</td>\n",
       "    </tr>\n",
       "    <tr>\n",
       "      <th>3</th>\n",
       "      <td>25732127</td>\n",
       "      <td>3429241</td>\n",
       "      <td>sanya1206</td>\n",
       "      <td>10</td>\n",
       "      <td>1.64</td>\n",
       "      <td>NaN</td>\n",
       "      <td>0.00</td>\n",
       "      <td>1.63</td>\n",
       "      <td>2016-12-08T18:13:55Z</td>\n",
       "      <td>-10.0</td>\n",
       "      <td>0</td>\n",
       "      <td>1</td>\n",
       "    </tr>\n",
       "    <tr>\n",
       "      <th>4</th>\n",
       "      <td>17995432</td>\n",
       "      <td>3389174</td>\n",
       "      <td>ADM</td>\n",
       "      <td>50</td>\n",
       "      <td>1.50</td>\n",
       "      <td>1.4</td>\n",
       "      <td>25.70</td>\n",
       "      <td>2.29</td>\n",
       "      <td>2016-11-27T08:14:48Z</td>\n",
       "      <td>0.0</td>\n",
       "      <td>1</td>\n",
       "      <td>0</td>\n",
       "    </tr>\n",
       "  </tbody>\n",
       "</table>\n",
       "</div>"
      ],
      "text/plain": [
       "         Id   GameID   Username  Bet  CashedOut  Bonus  Profit  BustedAt  \\\n",
       "0  14196549  3366002      papai    5       1.20    0.0    1.00      8.24   \n",
       "1  10676217  3343882     znay22    3       1.41    NaN    0.00      1.40   \n",
       "2  15577107  3374646   rrrrrrrr    4       1.33    3.0    1.44      3.15   \n",
       "3  25732127  3429241  sanya1206   10       1.64    NaN    0.00      1.63   \n",
       "4  17995432  3389174        ADM   50       1.50    1.4   25.70      2.29   \n",
       "\n",
       "               PlayDate  Losses  GameWon  GameLost  \n",
       "0  2016-11-20T19:44:19Z     0.0        1         0  \n",
       "1  2016-11-14T14:21:50Z    -3.0        0         1  \n",
       "2  2016-11-23T06:39:15Z     0.0        1         0  \n",
       "3  2016-12-08T18:13:55Z   -10.0        0         1  \n",
       "4  2016-11-27T08:14:48Z     0.0        1         0  "
      ]
     },
     "execution_count": 2,
     "metadata": {},
     "output_type": "execute_result"
    }
   ],
   "source": [
    "#Task 2\n",
    "# Create the new feature variables\n",
    "bustabit['CashedOut'] = bustabit['CashedOut'].fillna(0.01+bustabit['BustedAt'])\n",
    "bustabit.loc[bustabit['Profit']>0,'Losses'] = 0\n",
    "bustabit['Losses'] = bustabit['Losses'].fillna(-bustabit['Bet'])\n",
    "bustabit['Profit'] = bustabit['Profit'].fillna(0)\n",
    "bustabit['GameWon'] = (bustabit['Profit']>0).astype('int')\n",
    "bustabit['GameLost'] = (bustabit['Losses']<0).astype('int')\n",
    "# Look at the first five rows of the features data\n",
    "bustabit.head(5)\n"
   ]
  },
  {
   "cell_type": "markdown",
   "metadata": {
    "dc": {
     "key": "18"
    },
    "deletable": false,
    "editable": false,
    "run_control": {
     "frozen": true
    },
    "tags": [
     "context"
    ]
   },
   "source": [
    "## 3. Creating per-player statistics\n",
    "<p>The primary task at hand is to cluster Bustabit <strong>players</strong> by their respective gambling habits. Right now, however, we have features at the per-game level. The features we've derived would be great if we were interested in clustering properties of the games themselves - we know things about the BustedAt multiplier, the time the game took place, and lots more. But to better quantify player behavior, we must group the data by player (<code>Username</code>) to begin thinking about the relationship and similarity between groups of players. Some per-player features we will create are:</p>\n",
    "<ol>\n",
    "<li><strong>AverageCashedOut</strong> - The average multiplier at which the player cashes out</li>\n",
    "<li><strong>AverageBet</strong> - The average bet made by the player</li>\n",
    "<li><strong>TotalProfit</strong> - The total profits over time for the player</li>\n",
    "<li><strong>TotalLosses</strong> - The total losses over time for the player</li>\n",
    "<li><strong>GamesWon</strong> - The total number of individual games the player won</li>\n",
    "<li><strong>GamesLost</strong> - The total number of individual games the player lost</li>\n",
    "</ol>\n",
    "<p>With these variables, we will be able to potentially group similar users based on their typical Bustabit gambling behavior.</p>"
   ]
  },
  {
   "cell_type": "code",
   "execution_count": 3,
   "metadata": {
    "dc": {
     "key": "18"
    },
    "tags": [
     "sample_code"
    ]
   },
   "outputs": [
    {
     "data": {
      "text/html": [
       "<div>\n",
       "<style scoped>\n",
       "    .dataframe tbody tr th:only-of-type {\n",
       "        vertical-align: middle;\n",
       "    }\n",
       "\n",
       "    .dataframe tbody tr th {\n",
       "        vertical-align: top;\n",
       "    }\n",
       "\n",
       "    .dataframe thead th {\n",
       "        text-align: right;\n",
       "    }\n",
       "</style>\n",
       "<table border=\"1\" class=\"dataframe\">\n",
       "  <thead>\n",
       "    <tr style=\"text-align: right;\">\n",
       "      <th></th>\n",
       "      <th>CashedOut</th>\n",
       "      <th>Bet</th>\n",
       "      <th>Profit</th>\n",
       "      <th>Losses</th>\n",
       "      <th>GameWon</th>\n",
       "      <th>GameLost</th>\n",
       "    </tr>\n",
       "    <tr>\n",
       "      <th>Username</th>\n",
       "      <th></th>\n",
       "      <th></th>\n",
       "      <th></th>\n",
       "      <th></th>\n",
       "      <th></th>\n",
       "      <th></th>\n",
       "    </tr>\n",
       "  </thead>\n",
       "  <tbody>\n",
       "    <tr>\n",
       "      <th>----------------</th>\n",
       "      <td>1.040000</td>\n",
       "      <td>10.333333</td>\n",
       "      <td>0.70</td>\n",
       "      <td>-8.0</td>\n",
       "      <td>2</td>\n",
       "      <td>1</td>\n",
       "    </tr>\n",
       "    <tr>\n",
       "      <th>--dilib--</th>\n",
       "      <td>1.505000</td>\n",
       "      <td>210.750000</td>\n",
       "      <td>371.37</td>\n",
       "      <td>-1239.0</td>\n",
       "      <td>2</td>\n",
       "      <td>6</td>\n",
       "    </tr>\n",
       "    <tr>\n",
       "      <th>-31337-</th>\n",
       "      <td>1.220000</td>\n",
       "      <td>32.500000</td>\n",
       "      <td>21.50</td>\n",
       "      <td>-55.0</td>\n",
       "      <td>3</td>\n",
       "      <td>1</td>\n",
       "    </tr>\n",
       "    <tr>\n",
       "      <th>-Nothing-</th>\n",
       "      <td>1.417077</td>\n",
       "      <td>322.876923</td>\n",
       "      <td>3794.31</td>\n",
       "      <td>-6915.0</td>\n",
       "      <td>42</td>\n",
       "      <td>23</td>\n",
       "    </tr>\n",
       "    <tr>\n",
       "      <th>-Tachyon</th>\n",
       "      <td>1.246000</td>\n",
       "      <td>1024.800000</td>\n",
       "      <td>629.68</td>\n",
       "      <td>-2124.0</td>\n",
       "      <td>4</td>\n",
       "      <td>1</td>\n",
       "    </tr>\n",
       "  </tbody>\n",
       "</table>\n",
       "</div>"
      ],
      "text/plain": [
       "                  CashedOut          Bet   Profit  Losses  GameWon  GameLost\n",
       "Username                                                                    \n",
       "----------------   1.040000    10.333333     0.70    -8.0        2         1\n",
       "--dilib--          1.505000   210.750000   371.37 -1239.0        2         6\n",
       "-31337-            1.220000    32.500000    21.50   -55.0        3         1\n",
       "-Nothing-          1.417077   322.876923  3794.31 -6915.0       42        23\n",
       "-Tachyon           1.246000  1024.800000   629.68 -2124.0        4         1"
      ]
     },
     "execution_count": 3,
     "metadata": {},
     "output_type": "execute_result"
    }
   ],
   "source": [
    "#Task 3\n",
    "# Group by players to create per-player summary statistics\n",
    "bustabit_clus = bustabit.groupby('Username').agg({'CashedOut': 'mean',\n",
    "                                  'Bet': 'mean',\n",
    "                                  'Profit': sum,\n",
    "                                  'Losses': sum,\n",
    "                                  'GameWon': sum,\n",
    "                                  'GameLost': sum})\n",
    "# View the first five rows of the data\n",
    "bustabit_clus.head(5)\n"
   ]
  },
  {
   "cell_type": "markdown",
   "metadata": {
    "dc": {
     "key": "25"
    },
    "deletable": false,
    "editable": false,
    "run_control": {
     "frozen": true
    },
    "tags": [
     "context"
    ]
   },
   "source": [
    "## 4. Scaling and normalization of the derived features\n",
    "<p>The variables are on very different <strong>scales</strong> right now. For example, <code>AverageBet</code> is in bits (1/1000000 of a Bitcoin), <code>AverageCashedOut</code> is a multiplier, and <code>GamesLost</code> and <code>GamesWon</code> are counts. As a result, we would like to <strong>normalize</strong> the variables such that across clustering algorithms, they will have approximately equal weighting.</p>\n",
    "<p>One thing to think about is that in many cases, we may actually want a particular numeric variable to maintain a higher weight. This could occur if there is some prior knowledge regarding, for example, which variable might be most important in terms of defining similar Bustabit behavior. In this case, without that prior knowledge, we will forego the weighting of variables and scale everything. We are going to use <strong>mean-sd</strong> standardization to scale the data. Note that this is also known as a <strong>Z-score</strong>.</p>\n",
    "<p>Note that we could compute the Z-scores by using the base R function <code>scale()</code>, but we're going to write our own function in order to get the practice.</p>"
   ]
  },
  {
   "cell_type": "code",
   "execution_count": 4,
   "metadata": {
    "dc": {
     "key": "25"
    },
    "tags": [
     "sample_code"
    ]
   },
   "outputs": [
    {
     "data": {
      "text/html": [
       "<div>\n",
       "<style scoped>\n",
       "    .dataframe tbody tr th:only-of-type {\n",
       "        vertical-align: middle;\n",
       "    }\n",
       "\n",
       "    .dataframe tbody tr th {\n",
       "        vertical-align: top;\n",
       "    }\n",
       "\n",
       "    .dataframe thead th {\n",
       "        text-align: right;\n",
       "    }\n",
       "</style>\n",
       "<table border=\"1\" class=\"dataframe\">\n",
       "  <thead>\n",
       "    <tr style=\"text-align: right;\">\n",
       "      <th></th>\n",
       "      <th>CashedOut</th>\n",
       "      <th>Bet</th>\n",
       "      <th>Profit</th>\n",
       "      <th>Losses</th>\n",
       "      <th>GameWon</th>\n",
       "      <th>GameLost</th>\n",
       "    </tr>\n",
       "  </thead>\n",
       "  <tbody>\n",
       "    <tr>\n",
       "      <th>count</th>\n",
       "      <td>4.149000e+03</td>\n",
       "      <td>4149.000000</td>\n",
       "      <td>4.149000e+03</td>\n",
       "      <td>4.149000e+03</td>\n",
       "      <td>4.149000e+03</td>\n",
       "      <td>4.149000e+03</td>\n",
       "    </tr>\n",
       "    <tr>\n",
       "      <th>mean</th>\n",
       "      <td>2.740102e-17</td>\n",
       "      <td>0.000000</td>\n",
       "      <td>-5.137692e-18</td>\n",
       "      <td>-5.137692e-18</td>\n",
       "      <td>2.740102e-17</td>\n",
       "      <td>6.850255e-18</td>\n",
       "    </tr>\n",
       "    <tr>\n",
       "      <th>std</th>\n",
       "      <td>1.000000e+00</td>\n",
       "      <td>1.000000</td>\n",
       "      <td>1.000000e+00</td>\n",
       "      <td>1.000000e+00</td>\n",
       "      <td>1.000000e+00</td>\n",
       "      <td>1.000000e+00</td>\n",
       "    </tr>\n",
       "    <tr>\n",
       "      <th>min</th>\n",
       "      <td>-7.628940e-01</td>\n",
       "      <td>-0.177254</td>\n",
       "      <td>-9.051747e-02</td>\n",
       "      <td>-4.184541e+01</td>\n",
       "      <td>-4.320434e-01</td>\n",
       "      <td>-4.135629e-01</td>\n",
       "    </tr>\n",
       "    <tr>\n",
       "      <th>25%</th>\n",
       "      <td>-2.815727e-01</td>\n",
       "      <td>-0.176522</td>\n",
       "      <td>-9.050001e-02</td>\n",
       "      <td>9.836625e-02</td>\n",
       "      <td>-3.695527e-01</td>\n",
       "      <td>-4.135629e-01</td>\n",
       "    </tr>\n",
       "    <tr>\n",
       "      <th>50%</th>\n",
       "      <td>-1.805604e-01</td>\n",
       "      <td>-0.171070</td>\n",
       "      <td>-8.974251e-02</td>\n",
       "      <td>1.084707e-01</td>\n",
       "      <td>-3.070619e-01</td>\n",
       "      <td>-3.330622e-01</td>\n",
       "    </tr>\n",
       "    <tr>\n",
       "      <th>75%</th>\n",
       "      <td>2.751560e-02</td>\n",
       "      <td>-0.138357</td>\n",
       "      <td>-8.182603e-02</td>\n",
       "      <td>1.091616e-01</td>\n",
       "      <td>-1.195895e-01</td>\n",
       "      <td>-9.156008e-02</td>\n",
       "    </tr>\n",
       "    <tr>\n",
       "      <th>max</th>\n",
       "      <td>4.172651e+01</td>\n",
       "      <td>24.997118</td>\n",
       "      <td>4.073652e+01</td>\n",
       "      <td>1.091616e-01</td>\n",
       "      <td>1.325344e+01</td>\n",
       "      <td>1.930911e+01</td>\n",
       "    </tr>\n",
       "  </tbody>\n",
       "</table>\n",
       "</div>"
      ],
      "text/plain": [
       "          CashedOut          Bet        Profit        Losses       GameWon  \\\n",
       "count  4.149000e+03  4149.000000  4.149000e+03  4.149000e+03  4.149000e+03   \n",
       "mean   2.740102e-17     0.000000 -5.137692e-18 -5.137692e-18  2.740102e-17   \n",
       "std    1.000000e+00     1.000000  1.000000e+00  1.000000e+00  1.000000e+00   \n",
       "min   -7.628940e-01    -0.177254 -9.051747e-02 -4.184541e+01 -4.320434e-01   \n",
       "25%   -2.815727e-01    -0.176522 -9.050001e-02  9.836625e-02 -3.695527e-01   \n",
       "50%   -1.805604e-01    -0.171070 -8.974251e-02  1.084707e-01 -3.070619e-01   \n",
       "75%    2.751560e-02    -0.138357 -8.182603e-02  1.091616e-01 -1.195895e-01   \n",
       "max    4.172651e+01    24.997118  4.073652e+01  1.091616e-01  1.325344e+01   \n",
       "\n",
       "           GameLost  \n",
       "count  4.149000e+03  \n",
       "mean   6.850255e-18  \n",
       "std    1.000000e+00  \n",
       "min   -4.135629e-01  \n",
       "25%   -4.135629e-01  \n",
       "50%   -3.330622e-01  \n",
       "75%   -9.156008e-02  \n",
       "max    1.930911e+01  "
      ]
     },
     "execution_count": 4,
     "metadata": {},
     "output_type": "execute_result"
    }
   ],
   "source": [
    "#Task 4\n",
    "# Create the mean-sd standardization function\n",
    "def mean_sd_standard(x):\n",
    "    zscore = (x-x.mean())/x.std()\n",
    "    return zscore\n",
    "# Apply the function to each numeric variable in the clustering set\n",
    "bustabit_standardized = bustabit_clus.apply(lambda x: mean_sd_standard(x), axis=0)\n",
    "# Summarize our standardized data\n",
    "bustabit_standardized.describe()"
   ]
  },
  {
   "cell_type": "markdown",
   "metadata": {
    "dc": {
     "key": "32"
    },
    "deletable": false,
    "editable": false,
    "run_control": {
     "frozen": true
    },
    "tags": [
     "context"
    ]
   },
   "source": [
    "## 5. Cluster the player data using K means\n",
    "<p>With standardized data of per-player features, we are now ready to use K means clustering in order to cluster the players based on their online gambling behavior. K means is implemented in R in the <code>kmeans()</code> function from the stats package. This function requires the <code>centers</code> parameter, which represents the number of clusters to use. </p>\n",
    "<p>Without prior knowledge, it is often difficult to know what an appropriate choice for the number of clusters is. We will begin by choosing <strong>five</strong>. This choice is rather arbitrary, but represents a good initial compromise between choosing too many clusters (which reduces the interpretability of the final results), and choosing too few clusters (which may not capture the distinctive behaviors effectively). Feel free to play around with other choices for the number of clusters and see what you get instead!</p>\n",
    "<p>One subtlety to note - because the K means algorithm uses a random start, we are going to set a random seed first in order to ensure the results are reproducible.</p>"
   ]
  },
  {
   "cell_type": "code",
   "execution_count": 5,
   "metadata": {
    "dc": {
     "key": "32"
    },
    "tags": [
     "sample_code"
    ]
   },
   "outputs": [
    {
     "name": "stdout",
     "output_type": "stream",
     "text": [
      "cluster\n",
      "0     343\n",
      "1      32\n",
      "2     484\n",
      "3     110\n",
      "4    3180\n",
      "Name: cluster, dtype: int64\n"
     ]
    }
   ],
   "source": [
    "#Task 5\n",
    "# Choose 20190101 as our random seed\n",
    "np.random.seed(20190101)\n",
    "# Cluster the players using kmeans with five clusters\n",
    "cluster_solution, _1 = kmeans(bustabit_standardized, 5)\n",
    "# Store the cluster assignments back into the clustering data frame object\n",
    "bustabit_standardized['cluster'],_ =vq(bustabit_standardized, cluster_solution)\n",
    "# Look at the distribution of cluster assignments\n",
    "table = bustabit_standardized.groupby('cluster')['cluster'].count()\n",
    "print(table)"
   ]
  },
  {
   "cell_type": "markdown",
   "metadata": {
    "dc": {
     "key": "39"
    },
    "deletable": false,
    "editable": false,
    "run_control": {
     "frozen": true
    },
    "tags": [
     "context"
    ]
   },
   "source": [
    "## 6. Compute averages for each cluster\n",
    "<p>We have a clustering assignment which maps every Bustabit gambler to one of five different groups. To begin to assess the quality and distinctiveness of these groups, we are going to look at <strong>group averages</strong> for each cluster across the original variables in our clustering dataset. This will, for example, allow us to see which cluster tends to make the largest bets, which cluster tends to win the most games, and which cluster tends to lose the most money. This will provide us with our first clear indication as to whether the behaviors of the groups appear distinctive!</p>"
   ]
  },
  {
   "cell_type": "code",
   "execution_count": 6,
   "metadata": {
    "dc": {
     "key": "39"
    },
    "tags": [
     "sample_code"
    ]
   },
   "outputs": [
    {
     "data": {
      "text/html": [
       "<div>\n",
       "<style scoped>\n",
       "    .dataframe tbody tr th:only-of-type {\n",
       "        vertical-align: middle;\n",
       "    }\n",
       "\n",
       "    .dataframe tbody tr th {\n",
       "        vertical-align: top;\n",
       "    }\n",
       "\n",
       "    .dataframe thead th {\n",
       "        text-align: right;\n",
       "    }\n",
       "</style>\n",
       "<table border=\"1\" class=\"dataframe\">\n",
       "  <thead>\n",
       "    <tr style=\"text-align: right;\">\n",
       "      <th></th>\n",
       "      <th>CashedOut</th>\n",
       "      <th>Bet</th>\n",
       "      <th>Profit</th>\n",
       "      <th>Losses</th>\n",
       "      <th>GameWon</th>\n",
       "      <th>GameLost</th>\n",
       "    </tr>\n",
       "    <tr>\n",
       "      <th>cluster</th>\n",
       "      <th></th>\n",
       "      <th></th>\n",
       "      <th></th>\n",
       "      <th></th>\n",
       "      <th></th>\n",
       "      <th></th>\n",
       "    </tr>\n",
       "  </thead>\n",
       "  <tbody>\n",
       "    <tr>\n",
       "      <th>0</th>\n",
       "      <td>5.472163</td>\n",
       "      <td>2204.053302</td>\n",
       "      <td>8393.734490</td>\n",
       "      <td>-8551.690962</td>\n",
       "      <td>1.906706</td>\n",
       "      <td>6.206997</td>\n",
       "    </tr>\n",
       "    <tr>\n",
       "      <th>1</th>\n",
       "      <td>1.868071</td>\n",
       "      <td>247411.778605</td>\n",
       "      <td>688170.369687</td>\n",
       "      <td>-612976.218750</td>\n",
       "      <td>8.062500</td>\n",
       "      <td>5.031250</td>\n",
       "    </tr>\n",
       "    <tr>\n",
       "      <th>2</th>\n",
       "      <td>1.689671</td>\n",
       "      <td>1295.493472</td>\n",
       "      <td>14239.617314</td>\n",
       "      <td>-13818.113636</td>\n",
       "      <td>24.973140</td>\n",
       "      <td>15.266529</td>\n",
       "    </tr>\n",
       "    <tr>\n",
       "      <th>3</th>\n",
       "      <td>1.902159</td>\n",
       "      <td>754.221023</td>\n",
       "      <td>23677.979182</td>\n",
       "      <td>-21774.709091</td>\n",
       "      <td>70.363636</td>\n",
       "      <td>59.045455</td>\n",
       "    </tr>\n",
       "    <tr>\n",
       "      <th>4</th>\n",
       "      <td>1.456919</td>\n",
       "      <td>3370.984208</td>\n",
       "      <td>3051.284283</td>\n",
       "      <td>-3246.076101</td>\n",
       "      <td>2.498742</td>\n",
       "      <td>1.616667</td>\n",
       "    </tr>\n",
       "  </tbody>\n",
       "</table>\n",
       "</div>"
      ],
      "text/plain": [
       "         CashedOut            Bet         Profit         Losses    GameWon  \\\n",
       "cluster                                                                      \n",
       "0         5.472163    2204.053302    8393.734490   -8551.690962   1.906706   \n",
       "1         1.868071  247411.778605  688170.369687 -612976.218750   8.062500   \n",
       "2         1.689671    1295.493472   14239.617314  -13818.113636  24.973140   \n",
       "3         1.902159     754.221023   23677.979182  -21774.709091  70.363636   \n",
       "4         1.456919    3370.984208    3051.284283   -3246.076101   2.498742   \n",
       "\n",
       "          GameLost  \n",
       "cluster             \n",
       "0         6.206997  \n",
       "1         5.031250  \n",
       "2        15.266529  \n",
       "3        59.045455  \n",
       "4         1.616667  "
      ]
     },
     "execution_count": 6,
     "metadata": {},
     "output_type": "execute_result"
    }
   ],
   "source": [
    "#Task 6\n",
    "# Group by the cluster assignment and calculate averages\n",
    "bustabit_clus['cluster'] = bustabit_standardized['cluster']\n",
    "bustabit_clus_avg = bustabit_clus.groupby('cluster').mean()\n",
    "# View the resulting table\n",
    "bustabit_clus_avg"
   ]
  },
  {
   "cell_type": "markdown",
   "metadata": {
    "dc": {
     "key": "46"
    },
    "deletable": false,
    "editable": false,
    "run_control": {
     "frozen": true
    },
    "tags": [
     "context"
    ]
   },
   "source": [
    "## 7. Visualize the clusters with a Parallel Coordinate Plot\n",
    "<p>We can already learn a bit about our cluster groupings by looking at the previous table. We can clearly see that there is a group that makes very large bets, a group that tends to cash out at very high multiplier values, and a group that has played many games of Bustabit. We can visualize these group differences graphically using a Parallel Coordinate Plot or PCP. To do so, we will introduce one more kind of scaling: min-max scaling, which forces each variable to fall between 0 and 1.</p>\n",
    "<p>Other choices of scaling, such as the Z-score method from before, can work effectively as well. However, min-max scaling has the advantage of <strong>interpretability</strong> - a value of 1 for a particular variable indicates that cluster has the highest value compared to all other clusters, and a value of 0 indicates that it has the lowest. This can help make relative comparisons between the clusters more clear.</p>\n",
    "<p>The <code>ggparcoord()</code> function from <code>GGally</code> will be used to produce a Parallel Coordinate Plot. Note that this has a built-in argument <code>scale</code> to perform different scaling options, including min-max scaling. We will set this option to <code>\"globalminmax\"</code> to perform no scaling, and write our own scaling routine for practice. If you are interested, you can look at the function definition for <code>ggparcoord()</code> to help you write our scaling function!</p>"
   ]
  },
  {
   "cell_type": "code",
   "execution_count": 7,
   "metadata": {
    "dc": {
     "key": "46"
    },
    "tags": [
     "sample_code"
    ]
   },
   "outputs": [
    {
     "data": {
      "image/png": "[encoded data removed]",
      "text/plain": [
       "<Figure size 432x288 with 1 Axes>"
      ]
     },
     "metadata": {
      "needs_background": "light"
     },
     "output_type": "display_data"
    }
   ],
   "source": [
    "#Task 7\n",
    "# Create the min-max scaling function\n",
    "def min_max_standard(x):\n",
    "    return ((x-min(x))/(max(x)-min(x)))\n",
    "# Apply this function to each numeric variable in the bustabit_clus_avg object\n",
    "bustabit_avg_minmax = bustabit_clus_avg.apply(lambda x: min_max_standard(x))\n",
    "bustabit_avg_minmax = bustabit_avg_minmax.reset_index()\n",
    "# Load the GGally package\n",
    "#Down in the front\n",
    "# Create a parallel coordinate plot of the values\n",
    "#data = sns.load_dataset(bustabit_avg_minmax)\n",
    "bustabit_avg_minmax = bustabit_avg_minmax[['cluster','Bet','Profit', 'Losses','CashedOut','GameWon','GameLost']]\n",
    "\n",
    "pc = parallel_coordinates(bustabit_avg_minmax,\n",
    "                          'cluster',\n",
    "                          sort_labels = True,\n",
    "                          color=('red', 'blue','purple','green','yellow'))\n"
   ]
  },
  {
   "cell_type": "markdown",
   "metadata": {
    "dc": {
     "key": "53"
    },
    "deletable": false,
    "editable": false,
    "run_control": {
     "frozen": true
    },
    "tags": [
     "context"
    ]
   },
   "source": [
    "## 8. Visualize the clusters with Principal Components\n",
    "<p>One issue with plots like the previous is that they get more unwieldy as we continue to add variables. One way to solve this is to use the Principal Components of a dataset in order to reduce the dimensionality to aid in visualization. Essentially, this is a two-stage process:</p>\n",
    "<ol>\n",
    "<li>We extract the principal components in order to reduce the dimensionality of the dataset so that we can produce a scatterplot in two dimensions that captures the underlying structure of the higher-dimensional data.</li>\n",
    "<li>We then produce a scatterplot of each observation (in this case, each player) across the two Principal Components and color according to their cluster assignment in order to visualize the separation of the clusters.</li>\n",
    "</ol>\n",
    "<p>This plot provides interesting information in terms of the similarity of any two players. In fact, you will see that players who fall close to the boundaries of clusters might be the ones that exhibit the gambling behavior of a couple of different clusters. After you produce your plot, try to determine which clusters seem to be the most \"different.\" Also, try playing around with different projections of the data, such as PC3 vs. PC2, or PC3 vs. PC1, to see if you can find one that better differentiates the groups.</p>"
   ]
  },
  {
   "cell_type": "code",
   "execution_count": 8,
   "metadata": {
    "dc": {
     "key": "53"
    },
    "tags": [
     "sample_code"
    ]
   },
   "outputs": [
    {
     "data": {
      "text/plain": [
       "<BarContainer object of 6 artists>"
      ]
     },
     "execution_count": 8,
     "metadata": {},
     "output_type": "execute_result"
    },
    {
     "data": {
      "image/png": "[encoded data removed]",
      "text/plain": [
       "<Figure size 432x288 with 1 Axes>"
      ]
     },
     "metadata": {
      "needs_background": "light"
     },
     "output_type": "display_data"
    }
   ],
   "source": [
    "#Task 8\n",
    "# Calculate the principal components of the standardized data\n",
    "model = PCA()\n",
    "samples = bustabit_standardized.drop(columns=['cluster'])\n",
    "model.fit(samples)\n",
    "my_pc = model.transform(samples)\n",
    "my_pc = pd.DataFrame(my_pc, index=bustabit_standardized.drop(columns=['cluster']).index)\n",
    "# Store the cluster assignments in the new data frame\n",
    "my_pc['cluster'] = bustabit_standardized['cluster']\n",
    "plt.bar(range(0,6),model.explained_variance_)\n"
   ]
  },
  {
   "cell_type": "code",
   "execution_count": 10,
   "metadata": {},
   "outputs": [
    {
     "data": {
      "image/png": "[encoded data removed]",
      "text/plain": [
       "<Figure size 1296x432 with 3 Axes>"
      ]
     },
     "metadata": {
      "needs_background": "light"
     },
     "output_type": "display_data"
    }
   ],
   "source": [
    "# Use ggplot() to plot PC2 vs PC1, and color by the cluster assignment\n",
    "# View the resulting plot\n",
    "fig, (p1, p2, p3) = plt.subplots(nrows=1, ncols=3, figsize=(18, 6))\n",
    "\n",
    "\n",
    "sns.scatterplot(my_pc[0],my_pc[1], hue = my_pc['cluster'], ax = p1,\n",
    "                palette='tab10')\n",
    "#p1.scatter(my_pc[0],my_pc[1], c = my_pc['cluster'], label = my_pc['cluster'])\n",
    "p1.set_title('PC1 vs PC2')\n",
    "#p1.legend()\n",
    "sns.scatterplot(my_pc[1],my_pc[2], hue = my_pc['cluster'], ax = p2,\n",
    "                palette='tab10')\n",
    "#p2.scatter(my_pc[1],my_pc[2], c = my_pc['cluster'])\n",
    "p2.set_title('PC2 vs PC3')\n",
    "sns.scatterplot(my_pc[0],my_pc[2], hue = my_pc['cluster'], ax = p3,\n",
    "                palette='tab10')\n",
    "#p3.scatter(my_pc[0],my_pc[2], c = my_pc['cluster'])\n",
    "p3.set_title('PC1 vs PC3')\n",
    "\n",
    "plt.tight_layout()\n",
    "plt.show()"
   ]
  },
  {
   "cell_type": "markdown",
   "metadata": {
    "dc": {
     "key": "60"
    },
    "deletable": false,
    "editable": false,
    "run_control": {
     "frozen": true
    },
    "tags": [
     "context"
    ]
   },
   "source": [
    "## 9. Analyzing the groups of gamblers our solution uncovered\n",
    "<p>Though most of the statistical and programmatical work has been completed, possibly the most important part of a cluster analysis is to interpret the resulting clusters. This often is the most desired aspect of the analysis by clients, who are hoping to use the results of your analysis to inform better business decision making and actionable items. As a final step, we'll use the parallel coordinate plot and cluster means table to interpret the Bustabit gambling user groups! Roughly speaking, we can breakdown the groups as follows:</p>\n",
    "<p><strong><p style=\"color:#d95f02\">Cautious Commoners:</p></strong> This is the largest of the five clusters, and might be described as the more casual Bustabit players. They've played the fewest number of games overall, and tend to make more conservative bets in general. </p>\n",
    "<p><strong><p style=\"color:#66a61e\">Strategic Addicts:</p></strong> These users play a lot of games on Bustabit, but tend to keep their bets under control. As a result, they've made on average a net positive earnings from the site, in spite of having the most games played. They seem to maintain a strategy (or an automated script/bot) that works to earn them money.</p>\n",
    "<p><strong><p style=\"color:#7570b3\">Risky Commoners:</p></strong> These users seem to be a step above the Cautious Commoners in their Bustabit gambling habits, making larger average bets, and playing a larger number of games on the site. As a result, though they have about the same number of average games won as the Risk Takers, they have a significantly higher number of games lost.</p>\n",
    "<p><strong><p style=\"color:#1b9e77\">Risk Takers: </p></strong> These users have played only a couple games on average, but their average cashed out value is significantly higher than the other clusters, indicating that they tend to wait for the multiplier to increase to large values before cashing out.</p>\n",
    "<p><strong><p style=\"color:#e7298a\">High Rollers:</p></strong> High bets are the name of the game for this group. They bet large sums of money in each game, although they tend to cash out at lower multipliers and thus play the game more conservatively, particularly compared to the Risk Takers. Interestingly, these users have also on average earned a net positive earnings from their games played.</p>"
   ]
  },
  {
   "cell_type": "code",
   "execution_count": 11,
   "metadata": {
    "dc": {
     "key": "60"
    },
    "tags": [
     "sample_code"
    ]
   },
   "outputs": [
    {
     "data": {
      "text/html": [
       "<div>\n",
       "<style scoped>\n",
       "    .dataframe tbody tr th:only-of-type {\n",
       "        vertical-align: middle;\n",
       "    }\n",
       "\n",
       "    .dataframe tbody tr th {\n",
       "        vertical-align: top;\n",
       "    }\n",
       "\n",
       "    .dataframe thead th {\n",
       "        text-align: right;\n",
       "    }\n",
       "</style>\n",
       "<table border=\"1\" class=\"dataframe\">\n",
       "  <thead>\n",
       "    <tr style=\"text-align: right;\">\n",
       "      <th></th>\n",
       "      <th>CashedOut</th>\n",
       "      <th>Bet</th>\n",
       "      <th>Profit</th>\n",
       "      <th>Losses</th>\n",
       "      <th>GameWon</th>\n",
       "      <th>GameLost</th>\n",
       "    </tr>\n",
       "  </thead>\n",
       "  <tbody>\n",
       "    <tr>\n",
       "      <th>0</th>\n",
       "      <td>5.472163</td>\n",
       "      <td>2204.053302</td>\n",
       "      <td>8393.734490</td>\n",
       "      <td>-8551.690962</td>\n",
       "      <td>1.906706</td>\n",
       "      <td>6.206997</td>\n",
       "    </tr>\n",
       "    <tr>\n",
       "      <th>1</th>\n",
       "      <td>1.868071</td>\n",
       "      <td>247411.778605</td>\n",
       "      <td>688170.369687</td>\n",
       "      <td>-612976.218750</td>\n",
       "      <td>8.062500</td>\n",
       "      <td>5.031250</td>\n",
       "    </tr>\n",
       "    <tr>\n",
       "      <th>2</th>\n",
       "      <td>1.689671</td>\n",
       "      <td>1295.493472</td>\n",
       "      <td>14239.617314</td>\n",
       "      <td>-13818.113636</td>\n",
       "      <td>24.973140</td>\n",
       "      <td>15.266529</td>\n",
       "    </tr>\n",
       "    <tr>\n",
       "      <th>3</th>\n",
       "      <td>1.902159</td>\n",
       "      <td>754.221023</td>\n",
       "      <td>23677.979182</td>\n",
       "      <td>-21774.709091</td>\n",
       "      <td>70.363636</td>\n",
       "      <td>59.045455</td>\n",
       "    </tr>\n",
       "    <tr>\n",
       "      <th>4</th>\n",
       "      <td>1.456919</td>\n",
       "      <td>3370.984208</td>\n",
       "      <td>3051.284283</td>\n",
       "      <td>-3246.076101</td>\n",
       "      <td>2.498742</td>\n",
       "      <td>1.616667</td>\n",
       "    </tr>\n",
       "  </tbody>\n",
       "</table>\n",
       "</div>"
      ],
      "text/plain": [
       "   CashedOut            Bet         Profit         Losses    GameWon  \\\n",
       "0   5.472163    2204.053302    8393.734490   -8551.690962   1.906706   \n",
       "1   1.868071  247411.778605  688170.369687 -612976.218750   8.062500   \n",
       "2   1.689671    1295.493472   14239.617314  -13818.113636  24.973140   \n",
       "3   1.902159     754.221023   23677.979182  -21774.709091  70.363636   \n",
       "4   1.456919    3370.984208    3051.284283   -3246.076101   2.498742   \n",
       "\n",
       "    GameLost  \n",
       "0   6.206997  \n",
       "1   5.031250  \n",
       "2  15.266529  \n",
       "3  59.045455  \n",
       "4   1.616667  "
      ]
     },
     "execution_count": 11,
     "metadata": {},
     "output_type": "execute_result"
    }
   ],
   "source": [
    "#Task 9\n",
    "# Assign cluster names to clusters 1 through 5 in order\n",
    "cluster_names = {0:'Risky Commoners',1:'High Rollers',2:'Risk Takers',3:'Cautious Commoners',4:'Stratigic Addicts'}\n",
    "# Append the cluster names to the cluster means table\n",
    "bustabit_clus_avg_named = bustabit_clus_avg.rename(cluster_names)\n",
    "bustabit_clus_avg_named.index = cluster_names\n",
    "# View the cluster means table with your appended cluster names\n",
    "bustabit_clus_avg_named"
   ]
  },
  {
   "cell_type": "code",
   "execution_count": null,
   "metadata": {},
   "outputs": [],
   "source": []
  }
 ],
 "metadata": {
  "kernelspec": {
   "display_name": "Python 3",
   "language": "python",
   "name": "python3"
  },
  "language_info": {
   "codemirror_mode": {
    "name": "ipython",
    "version": 3
   },
   "file_extension": ".py",
   "mimetype": "text/x-python",
   "name": "python",
   "nbconvert_exporter": "python",
   "pygments_lexer": "ipython3",
   "version": "3.8.1"
  }
 },
 "nbformat": 4,
 "nbformat_minor": 2
}
